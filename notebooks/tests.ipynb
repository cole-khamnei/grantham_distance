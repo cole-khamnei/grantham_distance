{
 "cells": [
  {
   "cell_type": "code",
   "execution_count": 30,
   "id": "17f3d790",
   "metadata": {},
   "outputs": [
    {
     "name": "stdout",
     "output_type": "stream",
     "text": [
      "The autoreload extension is already loaded. To reload it, use:\n",
      "  %reload_ext autoreload\n"
     ]
    }
   ],
   "source": [
    "%load_ext autoreload\n",
    "%autoreload 2\n",
    "\n",
    "import os\n",
    "import sys\n",
    "grantham_distance_path = os.path.abspath(\"../\")\n",
    "sys.path.append(grantham_distance_path)\n",
    "\n",
    "import constants\n",
    "import grantham_distance as gd"
   ]
  },
  {
   "cell_type": "code",
   "execution_count": 31,
   "id": "a6e75722",
   "metadata": {},
   "outputs": [],
   "source": [
    "HLA_allele_AA_map = gd.HLAAlleleSequenceMapping(constants.HLA_CLASS_I_ALLELE_AMINO_ACID_SEQUENCES_ABS_PATH)"
   ]
  },
  {
   "cell_type": "code",
   "execution_count": 38,
   "id": "4897e8b8",
   "metadata": {},
   "outputs": [
    {
     "data": {
      "text/plain": [
       "3.1875"
      ]
     },
     "execution_count": 38,
     "metadata": {},
     "output_type": "execute_result"
    }
   ],
   "source": [
    "grantham_distance = gd.GranthamDistance(constants.GRANTHAM_DISTANCE_MATRIX_PATH)\n",
    "\n",
    "sequence_1, sequence_2 = HLA_allele_AA_map._map(['A*01:01', 'A*01:06'])\n",
    "grantham_distance.sequence_pair_distance(sequence_1, sequence_2)"
   ]
  },
  {
   "cell_type": "code",
   "execution_count": null,
   "id": "18c21480",
   "metadata": {},
   "outputs": [],
   "source": []
  }
 ],
 "metadata": {
  "kernelspec": {
   "display_name": "Python 3",
   "language": "python",
   "name": "python3"
  },
  "language_info": {
   "codemirror_mode": {
    "name": "ipython",
    "version": 3
   },
   "file_extension": ".py",
   "mimetype": "text/x-python",
   "name": "python",
   "nbconvert_exporter": "python",
   "pygments_lexer": "ipython3",
   "version": "3.9.12"
  }
 },
 "nbformat": 4,
 "nbformat_minor": 5
}
