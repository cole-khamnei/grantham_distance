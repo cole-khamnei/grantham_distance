{
 "cells": [
  {
   "cell_type": "code",
   "execution_count": 39,
   "id": "06ae439d",
   "metadata": {},
   "outputs": [
    {
     "name": "stdout",
     "output_type": "stream",
     "text": [
      "The autoreload extension is already loaded. To reload it, use:\n",
      "  %reload_ext autoreload\n"
     ]
    }
   ],
   "source": [
    "%load_ext autoreload\n",
    "%autoreload 2\n",
    "\n",
    "import os\n",
    "import sys\n",
    "grantham_distance_path = os.path.abspath(\"../\")\n",
    "sys.path.append(grantham_distance_path)\n",
    "\n",
    "import constants\n",
    "import grantham_distance as gd"
   ]
  },
  {
   "cell_type": "markdown",
   "id": "773bb69e",
   "metadata": {},
   "source": [
    "# Example of loading the HLA_allele map and Grantham Distance Calculator"
   ]
  },
  {
   "cell_type": "code",
   "execution_count": 116,
   "id": "6204a57c",
   "metadata": {},
   "outputs": [],
   "source": [
    "class_I_allele_map = gd.HLAAlleleSequenceMapping(constants.HLA_CLASS_I_ALLELE_AMINO_ACID_SEQUENCES_ABS_PATH)"
   ]
  },
  {
   "cell_type": "code",
   "execution_count": 117,
   "id": "2c5dd6ff",
   "metadata": {},
   "outputs": [
    {
     "data": {
      "text/plain": [
       "3.1875"
      ]
     },
     "execution_count": 117,
     "metadata": {},
     "output_type": "execute_result"
    }
   ],
   "source": [
    "grantham_distance = gd.GranthamDistance(constants.GRANTHAM_DISTANCE_MATRIX_PATH)\n",
    "\n",
    "sequence_1, sequence_2 = class_I_allele_map._map(['A*01:01', 'A*01:06'])\n",
    "grantham_distance.sequence_pair_distance(sequence_1, sequence_2)"
   ]
  },
  {
   "cell_type": "markdown",
   "id": "ea4fd184",
   "metadata": {},
   "source": [
    "# Use Example"
   ]
  },
  {
   "cell_type": "code",
   "execution_count": 113,
   "id": "e3e063d2",
   "metadata": {},
   "outputs": [],
   "source": [
    "import itertools\n",
    "import numpy as np\n",
    "import seaborn as sns\n",
    "import matplotlib.pyplot as plt\n",
    "\n",
    "sns.set_palette(\"tab10\")\n",
    "plt.rcParams.update({'figure.max_open_warning': 0})"
   ]
  },
  {
   "cell_type": "code",
   "execution_count": 114,
   "id": "1fa03eba",
   "metadata": {},
   "outputs": [],
   "source": [
    "distances = {\"A\": [], \"B\":[], \"C\":[]}\n",
    "\n",
    "for loci in distances:\n",
    "    alleles = [allele for allele in class_I_allele_map.HLA_allele_AA_mapping if allele.startswith(loci)]\n",
    "    allele_pairs = list(itertools.combinations(alleles, 2))\n",
    "    \n",
    "    for pair in allele_pairs:\n",
    "        distances[loci].append(grantham_distance.sequence_pair_distance(*class_I_allele_map._map(pair)))"
   ]
  },
  {
   "cell_type": "code",
   "execution_count": 136,
   "id": "d4cb0080",
   "metadata": {},
   "outputs": [
    {
     "ename": "SyntaxError",
     "evalue": "positional argument follows keyword argument (<ipython-input-136-30746fe0ea25>, line 7)",
     "output_type": "error",
     "traceback": [
      "\u001b[0;36m  Input \u001b[0;32mIn [136]\u001b[0;36m\u001b[0m\n\u001b[0;31m    ax.axvline(median, linestyle=\"--\", ax.get_color)\u001b[0m\n\u001b[0m                                                   ^\u001b[0m\n\u001b[0;31mSyntaxError\u001b[0m\u001b[0;31m:\u001b[0m positional argument follows keyword argument\n"
     ]
    }
   ],
   "source": [
    "fig, ax = plt.subplots(figsize=(14, 6))\n",
    "i = 0\n",
    "for loci in distances:\n",
    "    median = np.nanmedian(distances[loci])\n",
    "    ax = sns.kdeplot(distances[loci], shade=True, bw_method=.1, alpha=.6, ax=ax,\n",
    "                     label=loci, palette=\"tab10\", zorder=i)\n",
    "    ax.axvline(median, linestyle=\"--\", ax.get_color())\n",
    "    i -= 1\n",
    "\n",
    "ax.set_xlabel(\"Grantham Distance\")\n",
    "ax.set_ylabel(\"Density\")\n",
    "ax.legend(title=\"HLA Class I Loci\")\n",
    "ax.set_title(\"HLA Class I Same Loci Allele Distances\")\n",
    "fig.savefig(os.path.join(constants.COVER_PLOTS_PATH, \"HLA_loci_distances.png\"), facecolor=\"#fffffe\")"
   ]
  },
  {
   "cell_type": "code",
   "execution_count": null,
   "id": "f19d5037",
   "metadata": {},
   "outputs": [],
   "source": []
  }
 ],
 "metadata": {
  "kernelspec": {
   "display_name": "Python 3",
   "language": "python",
   "name": "python3"
  },
  "language_info": {
   "codemirror_mode": {
    "name": "ipython",
    "version": 3
   },
   "file_extension": ".py",
   "mimetype": "text/x-python",
   "name": "python",
   "nbconvert_exporter": "python",
   "pygments_lexer": "ipython3",
   "version": "3.9.12"
  }
 },
 "nbformat": 4,
 "nbformat_minor": 5
}
